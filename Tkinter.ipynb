{
 "cells": [
  {
   "cell_type": "markdown",
   "metadata": {},
   "source": [
    "# Learning Tkinter is Cool \n",
    "   By Learner"
   ]
  },
  {
   "cell_type": "code",
   "execution_count": 5,
   "metadata": {},
   "outputs": [],
   "source": [
    "import tkinter as tk"
   ]
  },
  {
   "cell_type": "markdown",
   "metadata": {},
   "source": [
    "Imports tkinter library as \"**tk**\""
   ]
  },
  {
   "cell_type": "code",
   "execution_count": 6,
   "metadata": {},
   "outputs": [],
   "source": [
    "window = tk.Tk()"
   ]
  },
  {
   "cell_type": "markdown",
   "metadata": {},
   "source": [
    "A window is an instance of Tkinter’s Tk class. Created a new window and assigned it to the variable *window*"
   ]
  },
  {
   "cell_type": "markdown",
   "metadata": {},
   "source": [
    "## Adding a widget"
   ]
  },
  {
   "cell_type": "markdown",
   "metadata": {},
   "source": [
    "In order to add some widget, we can use the *tk.label()* class and add some text to it."
   ]
  },
  {
   "cell_type": "code",
   "execution_count": 16,
   "metadata": {},
   "outputs": [],
   "source": [
    "greeting = tk.Label(text=\"Greeetings, My master\")\n",
    "greeting.pack()\n",
    "window.mainloop()"
   ]
  },
  {
   "cell_type": "markdown",
   "metadata": {},
   "source": [
    "**.pack()** method adds the widget to the window. There are several method to add widgets to the know and *.pack()* is one of them. The kinter tries pack the window as small as possible while still showing the widget."
   ]
  },
  {
   "cell_type": "markdown",
   "metadata": {},
   "source": [
    "**window.mainloop()** tells Python to run the Tkinter event loop. This method listens for events, such as button clicks or keypresses, and blocks any code that comes after it from running until the window it’s called on is closed. Go ahead and close the window you’ve created, and you’ll see a new prompt displayed in the shell."
   ]
  },
  {
   "cell_type": "markdown",
   "metadata": {},
   "source": [
    "##### Creating a Tkinter Window with something written on it\n",
    "\n"
   ]
  },
  {
   "cell_type": "code",
   "execution_count": 20,
   "metadata": {},
   "outputs": [],
   "source": [
    "window2=tk.Tk()\n",
    "var=tk.Label(text=\"This is just a try\")\n",
    "var.pack()\n",
    "window2.mainloop()"
   ]
  },
  {
   "cell_type": "markdown",
   "metadata": {},
   "source": [
    "## Working With Widgets\n",
    "\n",
    "Widgets are very important part of the tkinter library. Each widget is defined by a class.\n",
    "\n",
    "|Widget|Information|\n",
    "|-|-|\n",
    "|Label| A widget used to dispaly text on the screen.|\n",
    "|Button| A button that contain text and performs action when clicked.|\n",
    "|Entry| A text entry widget that allows only a single line of text. |\n",
    "|Text| A text entry widget that allows multiple line of text.|\n",
    "|Frame| A rectangular region used to group related widgets or provide padding between widget.|\n",
    "\n"
   ]
  },
  {
   "cell_type": "markdown",
   "metadata": {},
   "source": [
    "## Label Widgets\n",
    "\n",
    "Label widgets are used to dispaly text or images. The text displayed in the label widget cannot be changed by the user. The label widget can be simply used by initializing the label class and entering the text argument with the class.\n",
    "\n",
    "``` python \n",
    "variable=tk.Label(text=\"This is a text\")\n",
    "```\n",
    "\n",
    "Label text and background colour can be controlled and changed using the foreground and background. The default text colour is black and white. \n",
    "\n",
    "``` python \n",
    "\n",
    "variable= tk.Label(text=\"This is a text\",\n",
    "                  foreground=\"white\", #Set text colour to white\n",
    "                  background=\"black\"  #Set text colour to black\n",
    "                  )\n",
    "```\n",
    "\n",
    "Many of HTML color names work with the Tkinter. \n",
    "We can also specify the color names using the hexadecimal RBG values. \n",
    "\n",
    "We can also use **short hand** for foreground and background colors.\n",
    "\n",
    "``` python\n",
    "variable=tk. Label(text=\"This is text\", fg=\"white\", bg= \"black\")\n",
    "```\n",
    "\n",
    "We can also control the width and height of the label using the width and height parameters.\n",
    "\n",
    "``` python\n",
    "\n",
    "variable= tk.Label(text= \"This is a text\",fg=\"Black\",bg=\"white\",\n",
    "                  width=10, height= 10)\n",
    "```\n",
    "\n",
    "The width and height is measured in text units. \n",
    "*One horizontal text unit is determined by the width of the character \"0\", or the number zero, in the default system font. Similarly, one vertical text unit is determined by the height of the character \"0\".*"
   ]
  },
  {
   "cell_type": "markdown",
   "metadata": {},
   "source": [
    "## Button\n",
    "\n",
    "Button widgets are used to get clickable widgets from the user. They can be configured to call function whenever they are clicked. It is similar to the **Label Button** since the arguments they required are quite similar. \n",
    "\n",
    "``` python\n",
    "\n",
    "variable = tk.button(text=\"Button I\", width=25, height=20, fg=\"blue\", bg=\"black\")\n",
    "```"
   ]
  },
  {
   "cell_type": "markdown",
   "metadata": {},
   "source": [
    "## Entry\n",
    "\n",
    "When we need a little bit of input from the user, we use the **entry** widget. For example, for *Name, E-mail, Phone Number* we can use the entry widget. This displays an small text which the user can use to enter text. The syntax for it is similar to button and label syntax.\n"
   ]
  },
  {
   "cell_type": "markdown",
   "metadata": {},
   "source": [
    "``` python\n",
    "entry=tk.entry(text=\"Enter Your Name Here\",\n",
    "fg=\"Black\",bg=\"White\",width=10,height=10)\n",
    "```"
   ]
  },
  {
   "cell_type": "markdown",
   "metadata": {},
   "source": [
    "There are other main operation which can be performed with Entery widget:\n",
    "* Retriving Text with .get()\n",
    "* Deleting Text with .delete()\n",
    "* Inserting Text with .insert()"
   ]
  },
  {
   "cell_type": "markdown",
   "metadata": {},
   "source": [
    "``` python\n",
    "import tkinter as tk\n",
    "window=tk.Tk()\n",
    "label=tk.Label(text=\"Enter Your Name:\",fg=\"White\",bg=\"Black\")\n",
    "entry=tk.Entry()\n",
    "label.pack()\n",
    "entry.pack()\n",
    "window.mainloop()\n",
    "```\n"
   ]
  },
  {
   "cell_type": "markdown",
   "metadata": {},
   "source": [
    "The Label helps the user to know the entry field wheres the entry creates a field where the user can enter. .pack() makes the two widgets visible in the windows."
   ]
  },
  {
   "cell_type": "markdown",
   "metadata": {},
   "source": [
    "The .delete() works as the string slicing-can take one or two arguments-.delete(x,y) where x is the starting position and y is the ending position. Also, we can take the special tk command tk.End() to take the count to the end of the string.\n",
    "\n",
    "The .insert() operation also works similar to .delete() and takes two arguments. But .insert(x,\"y\") is x is for the positional argument gives where to insert the text and \"y\" is the text to be inserted in the entry. The entry operation automatically inserts the text in the first even if the positional argument is not 0 (if not text is given at the entry). But if a text is given then it enters in the given position. "
   ]
  },
  {
   "cell_type": "markdown",
   "metadata": {},
   "source": [
    "## Text\n",
    "\n",
    "The text widget is very similar to the entry widget. But the difference is we can entry multiple paraghraph with .Text() widget.\n",
    "\n",
    "Just like Entry widget, it has three main operations:\n",
    "\n",
    "* Retriving Text with .get()\n",
    "* Deleting Text with .delete()\n",
    "* Inserting Text with .insert()\n",
    "\n"
   ]
  },
  {
   "cell_type": "markdown",
   "metadata": {},
   "source": [
    "``` python\n",
    "import tkinter as tk\n",
    "window=tk.Tk()\n",
    "text_box=tk.Text()\n",
    "text_box.pack()\n",
    "```"
   ]
  },
  {
   "cell_type": "markdown",
   "metadata": {},
   "source": [
    "The Text box widget is bigger than the entry window.\n",
    "\n",
    "### .get()\n",
    "\n",
    "Just like the entry, we can use the .get() operation to get the entered text from the text widget. But unlike the entry, wew neet to give the postional arugument otherwise it may give an exception. \n",
    "\n",
    "Giving only one argument returns only on string. \n",
    "\n",
    "The arguments work queit different in the text. The argument entered contains two information \n",
    "* Line Number\n",
    "* Charater Postion\n",
    "\n",
    "The **Line Number** starts from 1 where aa the **Character Postion** starts from 0. So the argument entered in the text's .get() is:\n",
    "\n",
    "Line.Character-Position\n",
    "\n",
    "    -1.0= First Line and First Character\n",
    "    -2.3=Second Line and Fourth Character\n",
    "    \n",
    "``` python\n",
    "text_box.get(1.1,1.3) #From 2nd Character in 1st Line to Fourth Character in First Line)\n",
    "\n",
    "text_box.get(1.0, tk.End())  #Special command tk.End() takes to the end of the text entered, so we can get all the entered text in here\n",
    "```"
   ]
  },
  {
   "cell_type": "markdown",
   "metadata": {},
   "source": [
    "### .insert()\n",
    "\n",
    "The insert operation is similar to the entry widget. The only different is thhat it takes the aruguments just like the .get() takes in **Text** widget.\n",
    "\n",
    "``` python\n",
    "import tkinter as tk\n",
    "window=tk.Tk()\n",
    "text_box=tk.Text()\n",
    "text_box.pack()\n",
    "\n",
    "text.insert(1.2,\"Hello\") #Inserts \"Hello\" after the thrid character in the first line. \n",
    "```\n",
    "\n",
    "Always remember to enter the end of line character in the string, if you are going to add the string in a new line at the end.\n",
    "Otherwise, it will be added in the end of a line without the new line.\n",
    "\n",
    "``` python\n",
    "text.insert(2.0,\"\\nHello\")\n",
    "```"
   ]
  },
  {
   "cell_type": "markdown",
   "metadata": {},
   "source": [
    "## Assigning Widgets to Frames With Frame Widgets\n",
    "\n",
    "Frame Widget is another widget which helps in organizing the layout of our widgets in an application. \n",
    "\n",
    "``` python\n",
    "\n",
    "import tkinter as tk\n",
    "window=tk.Tk()\n",
    "frame=tk.Frame()\n",
    "frame.pack()\n",
    "\n",
    "window.mainloop()\n",
    "```\n",
    "\n",
    "Frame.pack() packs the frame into the window so that the window sizes itself as small as possible to encompass the frame. \n",
    "\n",
    "Frame are basically containers for other widgets. We can assign a widget to a frame by setting the widgets's master attribute:\n",
    "\n",
    "``` python\n",
    "import tkinter as tk\n",
    "window=tk.Tk()\n",
    "frame=tk.frame()\n",
    "label=tk.Label(master=frame)\n",
    "```\n",
    "\n",
    "An empty frame is basically invisible. \n",
    "\n",
    "### Frame And Label\n",
    "\n",
    "```python\n",
    "import tkinter as tk\n",
    "window=tk.Tk()\n",
    "\n",
    "frame_a=tk.Frame()\n",
    "frame_b=tk.Frame()\n",
    "\n",
    "label_a=tk.Label(master=frame_a,text=\"I am in the Frame A\")\n",
    "label_a.pack()\n",
    "\n",
    "label_b=tk.Label(master=frame_b,text=\"I am in the Frame B\")\n",
    "label_b.pack()\n",
    "\n",
    "frame_a.pack()\n",
    "frame_b.pack()\n",
    "\n",
    "window.mainloop()\n",
    "```"
   ]
  },
  {
   "cell_type": "markdown",
   "metadata": {},
   "source": [
    "### Frame and Label Swaping\n",
    "\n",
    "``` python\n",
    "\n",
    "import tkinter as tk\n",
    "\n",
    "window=tk.Tk()\n",
    "\n",
    "frame_a=tk.Frame()\n",
    "label_a=tk.Label(master=frame_a,text=\"This is Frame A\")\n",
    "label_a.pack()\n",
    "\n",
    "frame_b=tk.Frame()\n",
    "label_b=tk.Label(master=frame_b,text=\"This is Frame B\")\n",
    "label_b.pack()\n",
    "\n",
    "frame_b.pack()\n",
    "frame_a.pack()\n",
    "```\n",
    "\n",
    "\n",
    "When frame_b and frame_a swaps position, the order in which they are dispalyed are also swapped.\n"
   ]
  },
  {
   "cell_type": "markdown",
   "metadata": {},
   "source": [
    "All four of the widget types you’ve learned about—Label, Button, Entry, and Text—have a master attribute that’s set when you instantiate them.\n",
    "\n",
    "\n",
    "Related widgets can be assigned to the same frame so that, if the frame is ever moved in the window, then the related widgets stay together."
   ]
  },
  {
   "cell_type": "markdown",
   "metadata": {},
   "source": [
    "## Adjusting Frame Appearncce with Relief\n",
    "\n",
    "Frame widgets canbe configured with a relief attribute that creates a border around the frame you can set relief to any of the following values:\n",
    "* tk.FLAT: Has no border effect(the default value)\n",
    "* tk.SUNKEN: Creates a sunken effect\n",
    "* tk.RASIED: Creates a raised effect\n",
    "* tk.Grooce: Creates a grooved border effect\n",
    "* tk.RIDGE: Creates a ridged effect\n",
    "\n",
    "To apply the broder effect, you must set the borderwidth attribute to a value greater than 1. This attribute sets the width of the border in pixels.\n",
    "\n",
    "```python\n",
    "import tkinter as tk\n",
    "\n",
    "border_effects={\n",
    "    \"flat\"=tk.FLAT,\n",
    "    \"sunken\":tk.SUNKEN,\n",
    "    \"raised\":tk.RAISED,\n",
    "    \"groove\":tk.GROOVE,\n",
    "    \"ridge\":tk.RIDGE,\n",
    "}\n",
    "\n",
    "window=tk.Tk()\n",
    "for releif_name,relief in border_effects.items():\n",
    "    frame=tk.Frame(master=Window,relief=relief,borderwidth=5)\n",
    "    frame.pack(side=tk.LEFT)\n",
    "    label=tk.Label(master=frame,text=relief_name)\n",
    "    label.pack()\n",
    "    \n",
    "window.mainlopp()\n",
    "\n",
    "```\n",
    "\n",
    "### Code BreakDown\n",
    "\n",
    "Border_effects: is a dictionary with key as the relief string and values as the reliefs.\n",
    "\n",
    "frame=tk.Frame(.......)= creates a new frame widget and assigns it to the *window* object. The *relief* attribute is set to the correspionding relief in the *border_effects* dictionary, and the *border* attribute is set to 5 so that effect is visible.\n",
    "\n",
    "frame.pack(.....): packs the *frame* widget into the window. The *side* keyword argument tells Tkinter in which direction to pack the *frame* objects. "
   ]
  },
  {
   "cell_type": "markdown",
   "metadata": {},
   "source": [
    "## Widget Naming Convention\n",
    "\n",
    "|Widget|Varibale Name Prefix|Example|\n",
    "|-|-|-|\n",
    "|Label| lbl | lbl_name |\n",
    "|Button| btn | btn_submit |\n",
    "|Entry| ent | ent_age |\n",
    "|Text| txt | txt_notes |\n",
    "|Frame| frm| frm_address |"
   ]
  },
  {
   "attachments": {
    "parcels1.PNG": {
     "image/png": "[encoded data removed]"
    }
   },
   "cell_type": "markdown",
   "metadata": {},
   "source": [
    "## Controlling the Layout with Geometry Managers\n",
    "\n",
    "Lets go in depth about .pack() method\n",
    "\n",
    "The application layout in Tkinter is controlled by **geometry managers**. *Pack()* is an example of the *geometry manager*. \n",
    "\n",
    "Beside *pack()*, tkinter has other two geometry managers:\n",
    "\n",
    "* .place()\n",
    "* .grid()\n",
    "\n",
    "**Each *window* and *frame* in our application can use only one geometry manager. However different frames can use different geometry manager, even if they are assignmend to a frame or window using another geometry manager.**\n",
    "\n",
    "\n",
    "### .pack()\n",
    "\n",
    ".pack() uses a packing alogorithm to place the widgetrs in a Frame or window in a specified order. \n",
    "\n",
    "For a given widget, the packing algorithm has two main steps:\n",
    "\n",
    "* Compute a rectangular area called **parcel** which is just tall(or wide) enough to hold the widget and fills the remaining wide(or height) in the window with the blank space.\n",
    "\n",
    "* Center the widget in the parcel unless a location is specified.\n",
    "\n",
    ".pack() is powerful but difficult to visualize.\n",
    "\n",
    "``` python\n",
    "import tkinter as tk\n",
    "window=tk.Tk()\n",
    "frame_1=tk.Frame(master=window,width=100,height=100,bg=\"red\")\n",
    "frame_1.pack()\n",
    "\n",
    "frame_2=tk.Frame(master=window,width=50,height=100,bg=\"yellow\")\n",
    "frame_2.pack()\n",
    "\n",
    "frame_3=tk.Frame(master=window,width,23,height=25,bg=\"blue\")\n",
    "frame_3.pack()\n",
    "\n",
    "window.mainloop()\n",
    "```\n",
    "![parcels1.PNG](attachment:parcels1.PNG)\n",
    "\n",
    "\n",
    "Here, we can see 3 parcels created just equal to the width and height specified. They can be easily visualized since the background is not white. The parcels are stacked on the top of one another and they always centred unless some anchor point is specified. \n",
    "\n",
    "#### fill keyword in .pack()\n",
    "\n",
    "The fill keyword tells the frames in which directions it should fill, **tk.X,tk.Y and tk.BOTH** are the two options used. The *tk.X* fill in the horizontal direction and *tk.Y* fills in the vertical direction and *tk.Both* fills in both the direction.\n",
    "\n",
    "``` python\n",
    "import tkinter as tk\n",
    "window=tk.Tk()\n",
    "\n",
    "frame_1=tk.Frame(master=window,height=40,bg=\"red\")\n",
    "frame_1.pack(fill=tk.X)\n",
    "\n",
    "frame_2=tk.Frame(master=window,height=40,bg=\"pink\")\n",
    "frame_2.pack(fill=tk.X)\n",
    "\n",
    "frame_3=tk.Frame(master=window,height=40,bg=\"yellow\")\n",
    "frame_3.pack(fill=tk.X)\n",
    "\n",
    "window.mainloop()\n",
    "```\n",
    "\n",
    "*Notice, the width is not given in any of the frame widgets because each frame is packed along th vertical axis*\n",
    "\n",
    "The *.pack()* is responsive to window resizing. If we widen the window, the frames will be resized according to the fill keyword. \n",
    "\n",
    "\n",
    "#### side keyword in .pack()\n",
    "\n",
    "The side keyword argument of .pack() specifies on which side of the window the widget should be placed. These are the available options:\n",
    "\n",
    "* tk.TOP \n",
    "* tk.BOTTOM\n",
    "* tk.LEFT\n",
    "* tk.RIGHT\n",
    "\n",
    "If you don't set side, then .pack() will automatically use tk.TOP() and place new widgets at the top of the window, or at the top-most portion of the window that isn't already occupied by a widget. For example, the following script places three frames side-by-side from left to right and expands each frame  to fill the window vertically:\n",
    "\n",
    "\n",
    "``` python\n",
    "\n",
    "import tkinter as tk\n",
    "window=tk.Tk()\n",
    "\n",
    "frame_1=tk.Frame(master=window, width=200, height=100,bg=\"yellow\")\n",
    "frame1.pack(fill=tk.Y, side=tk.LEFT)\n",
    "\n",
    "frame2= tk.Frame(master=window, width=200, bg=\"red\")\n",
    "frame2.pack(fill=tk.Y, side=tk.LEFT)\n",
    "\n",
    "frame3=tk.Frame(master=window,width=200,bg=\"pink\")\n",
    "frame3.pack(fill=tk.Y, side=tk.LEFT)\n",
    "\n",
    "window.mainloop()\n",
    "```\n",
    "\n",
    "In above code the the frist sets the height for window.\n",
    "\n",
    "\n",
    "``` python\n",
    "import tkinter as tk\n",
    "window=tk.Tk()\n",
    "\n",
    "frame_1=tk.Frame(master=window,width=200,height=200,bg=\"red\")\n",
    "frame_1.pack(fill=tk.BOTH,side=tk.LEFT,expand=True)\n",
    "\n",
    "frame_2=tk.Frame(master=window,width=100,bg=\"pink\")\n",
    "frame_2.pack(fill=tk.BOTH,side=tk.LEFT,expand=True)\n",
    "\n",
    "frame_3=tk.Frame(master=window,width=50,bg=\"blue\")\n",
    "frame_3.pack(fill=tk.BOTH,side=tk.LEFT,expand=True)\n",
    "\n",
    "window.mainloop()\n",
    "```\n",
    "\n",
    "A truly responsive program."
   ]
  },
  {
   "cell_type": "markdown",
   "metadata": {},
   "source": [
    "### .place() Geometry Manager\n",
    "\n",
    "We can use the .place() to control the precise location that a widget should occupy in a window or Frame. It takes two arguments x and y which specifies the x and y coordinte for the top left corner of the widget. Both x and y values are measured in pixel.\n",
    "\n",
    "``` python\n",
    "import tkinter as tk\n",
    "window=tk.Tk()\n",
    "\n",
    "frame=tk.Frame(master=window,width=150,height=100)\n",
    "frame.pack()\n",
    "\n",
    "lbl_1=tk.Label(master=frame,text=\"I am at (0,0)\",bg=\"red\")\n",
    "lbl_1.place(x=0,y=0)\n",
    "\n",
    "lbl_2=tk.Label(master=frame,text=\"I am at 50,50\",bg=\"yellow\")\n",
    "lbl_2.place(x=50,y=50)\n",
    "window.mainloop()\n",
    "```\n",
    "\n",
    "Cons of using *.place()*:\n",
    "   * Layout are difficult to manage with *.place()* especially if we have lots of widgets\n",
    "   * Layouts are not responsive when made with .place(). They donot change with the window resizing. \n",
    "   \n",
    "   \n",
    "Cons of using *.pack()*:\n",
    "   * The widgets are packed based on the call. So, it maybe difficult to modify the program.\n",
    "   "
   ]
  },
  {
   "cell_type": "markdown",
   "metadata": {},
   "source": []
  },
  {
   "cell_type": "markdown",
   "metadata": {},
   "source": [
    "### .grid() Geometry Manager\n",
    "\n",
    "\n",
    "The geometry manager you’ll likely use most often is .grid(), which provides all the power of .pack() in a format that’s easier to understand and maintain.\n",
    "\n",
    "\n",
    "The *.grid()* geometric manager works by splitting the window or Frame into rows and columns. You specify the location of a widget by calling .grid() and passing the row and column indices to the row and column keyword arguments, repectively. Both, row and column indices start at 0. \n",
    "\n",
    "\n",
    "``` python\n",
    "import tkinter as tk\n",
    "window=tk.Tk()\n",
    "for i in range(3):\n",
    "    for j in range(3):\n",
    "        frame=tk.Frame(master=window,\n",
    "                       relief=tk.RAISED,\n",
    "                       borderwidth=1)\n",
    "        frame.grid(row=i,clumn=j)\n",
    "        label=tk.Label(master=frame,text=f\"Row{i},\\n Column {j}\")\n",
    "        label.pack()\n",
    "        \n",
    "window.mainloop()\n",
    "```\n",
    "In the above code, two geometric managers are being used. Each frame is attached to the grid, whereas the labels are attahced to the frames. The *grid()* geometric manager is only applied to the window. \n",
    "\n",
    "We can add some blank space around a widget and separate it visibally from it objects using **Pading**.\n",
    "There are two kinds of paddings **internal and external**:\n",
    "* External Padding: The external padding adds some space around the outside of the grid cell. It takes two arguments to .grid():\n",
    "        1. padx add pads to the horzantal direction\n",
    "        2. pady add pads to the vertical direction\n",
    "\n",
    "``` python\n",
    "import tkinter as tk\n",
    "window=tk.Tk()\n",
    "\n",
    "for i in range(3):\n",
    "    for j in range(3):\n",
    "        frame=tk.Frame(master=window,\n",
    "                       relief=tk.RAISED,\n",
    "                       borderwidth=1)\n",
    "        frame.grid(row=i,column=j,padx=5,pady=5)\n",
    "        label=tk.Label(master=frame,text=f\"row{i}, \\ncolumn{j}\")\n",
    "        label.pack()\n",
    "window.mainloop()\n",
    "```\n",
    "\n",
    "*.pack()* also has *padx and pady*.  parameter. The padx and pay parameter in pack also add spaces around the widgets in pixels. \n",
    "\n",
    "If we look at above program, it is unresponsive i.e does not resize with the windows. We can achieved such functionality using the **.columnconfigure() and .rowconfigure() on the window object.** Cuz the grid is attached to the window even though it is called on frame. \n",
    "\n",
    "The colummnconfigure and rowconfigure takes 3 arguments:\n",
    "\n",
    "1. Index of the grid column or row that we want to configure (or a list of indices to configure multiple rows and columns at the same time.)\n",
    "2. Keyword Argument called **weight** which determines how the column or row should respond to window resizing, relative to the other columns or rows. Its defualt value is 0 which means that the column or row doesnot expand as the window resizes. If all the rows and columns are set to 1, they all grow with same value. \n",
    "3. Keyword argument call **minsize** defines the minimum size of the row height or column width in pixels. \n",
    "\n",
    "\n",
    "``` python\n",
    "import tkinter as tk\n",
    "window=tk.Tk()\n",
    "for i in range(3):\n",
    "    window.columnconfigure(i, weight=1,minsize=75)\n",
    "    window.rowconfigure(i,weight=1,minsize=50)\n",
    "    \n",
    "    for j in range(3):\n",
    "        frame=tk.Frame(\n",
    "            master=window,\n",
    "            relief=tk.SUNKEN,\n",
    "            borderwidth=1)\n",
    "        frame.grid(row=i,cloumn=j,padx=5, pady=5)\n",
    "        label=tk.Label(master=frame,text=f\"Row{i},\\nCloumn{j}\")\n",
    "        label.pack(padx=5,pady=5)\n",
    "window.mainloop()\n",
    "```\n",
    "\n",
    "On each iteration of the loop, the i-th column and row are configured to have a weight of 1. This ensures that each row and column expands at the same rate whenever the window is resized. The minsize argument is set to 75 for each column and 50 for each row. This makes sure the Label widget always displays its text without chopping off any characters, even if the window size is extremely small.\n"
   ]
  },
  {
   "cell_type": "code",
   "execution_count": null,
   "metadata": {},
   "outputs": [],
   "source": []
  },
  {
   "cell_type": "code",
   "execution_count": null,
   "metadata": {},
   "outputs": [],
   "source": []
  }
 ],
 "metadata": {
  "kernelspec": {
   "display_name": "Python 3",
   "language": "python",
   "name": "python3"
  },
  "language_info": {
   "codemirror_mode": {
    "name": "ipython",
    "version": 3
   },
   "file_extension": ".py",
   "mimetype": "text/x-python",
   "name": "python",
   "nbconvert_exporter": "python",
   "pygments_lexer": "ipython3",
   "version": "3.8.5"
  }
 },
 "nbformat": 4,
 "nbformat_minor": 5
}
