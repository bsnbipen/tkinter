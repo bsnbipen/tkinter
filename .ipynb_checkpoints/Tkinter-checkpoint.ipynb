{
 "cells": [
  {
   "cell_type": "markdown",
   "id": "5a567a6c",
   "metadata": {},
   "source": [
    "# Learning Tkinter is Cool \n",
    "   By Learner"
   ]
  },
  {
   "cell_type": "code",
   "execution_count": 5,
   "id": "022c3ab1",
   "metadata": {},
   "outputs": [],
   "source": [
    "import tkinter as tk"
   ]
  },
  {
   "cell_type": "markdown",
   "id": "efd1d0f3",
   "metadata": {},
   "source": [
    "Imports tkinter library as \"**tk**\""
   ]
  },
  {
   "cell_type": "code",
   "execution_count": 6,
   "id": "4b7f752c",
   "metadata": {},
   "outputs": [],
   "source": [
    "window = tk.Tk()"
   ]
  },
  {
   "cell_type": "markdown",
   "id": "64ac3c18",
   "metadata": {},
   "source": [
    "A window is an instance of Tkinter’s Tk class. Created a new window and assigned it to the variable *window*"
   ]
  },
  {
   "cell_type": "markdown",
   "id": "2f243381",
   "metadata": {},
   "source": [
    "## Adding a widget"
   ]
  },
  {
   "cell_type": "markdown",
   "id": "35558d27",
   "metadata": {},
   "source": [
    "In order to add some widget, we can use the *tk.label()* class and add some text to it."
   ]
  },
  {
   "cell_type": "code",
   "execution_count": 16,
   "id": "68e6dd0d",
   "metadata": {},
   "outputs": [],
   "source": [
    "greeting = tk.Label(text=\"Greeetings, My master\")\n",
    "greeting.pack()\n",
    "window.mainloop()"
   ]
  },
  {
   "cell_type": "markdown",
   "id": "a111a293",
   "metadata": {},
   "source": [
    "**.pack()** method adds the widget to the window. There are several method to add widgets to the know and *.pack()* is one of them. The kinter tries pack the window as small as possible while still showing the widget."
   ]
  },
  {
   "cell_type": "markdown",
   "id": "a07ea48c",
   "metadata": {},
   "source": [
    "**window.mainloop()** tells Python to run the Tkinter event loop. This method listens for events, such as button clicks or keypresses, and blocks any code that comes after it from running until the window it’s called on is closed. Go ahead and close the window you’ve created, and you’ll see a new prompt displayed in the shell."
   ]
  },
  {
   "cell_type": "markdown",
   "id": "77755d58",
   "metadata": {},
   "source": [
    "##### Creating a Tkinter Window with something written on it\n",
    "\n"
   ]
  },
  {
   "cell_type": "code",
   "execution_count": 20,
   "id": "faa47a03",
   "metadata": {},
   "outputs": [],
   "source": [
    "window2=tk.Tk()\n",
    "var=tk.Label(text=\"This is just a try\")\n",
    "var.pack()\n",
    "window2.mainloop()"
   ]
  },
  {
   "cell_type": "markdown",
   "id": "487b98c1",
   "metadata": {},
   "source": [
    "## Working With Widgets\n",
    "\n",
    "Widgets are very important part of the tkinter library. Each widget is defined by a class.\n",
    "\n",
    "|Widget|Information|\n",
    "|-|-|\n",
    "|Label| A widget used to dispaly text on the screen.|\n",
    "|Button| A button that contain text and performs action when clicked.|\n",
    "|Entry| A text entry widget that allows only a single line of text. |\n",
    "|Text| A text entry widget that allows multiple line of text.|\n",
    "|Frame| A rectangular region used to group related widgets or provide padding between widget.|\n",
    "\n"
   ]
  },
  {
   "cell_type": "markdown",
   "id": "efb44e44",
   "metadata": {},
   "source": [
    "## Label Widgets\n",
    "\n",
    "Label widgets are used to dispaly text or images. The text displayed in the label widget cannot be changed by the user. The label widget can be simply used by initializing the label class and entering the text argument with the class.\n",
    "\n",
    "``` python \n",
    "variable=tk.Label(text=\"This is a text\")\n",
    "```\n",
    "\n",
    "Label text and background colour can be controlled and changed using the foreground and background. The default text colour is black and white. \n",
    "\n",
    "``` python \n",
    "\n",
    "variable= tk.Label(text=\"This is a text\",\n",
    "                  foreground=\"white\", #Set text colour to white\n",
    "                  background=\"black\"  #Set text colour to black\n",
    "                  )\n",
    "```\n",
    "\n",
    "Many of HTML color names work with the Tkinter. \n",
    "We can also specify the color names using the hexadecimal RBG values. \n",
    "\n",
    "We can also use **short hand** for foreground and background colors.\n",
    "\n",
    "``` python\n",
    "variable=tk. Label(text=\"This is text\", fg=\"white\", bg= \"black\")\n",
    "```\n",
    "\n",
    "We can also control the width and height of the label using the width and height parameters.\n",
    "\n",
    "``` python\n",
    "\n",
    "variable= tk.Label(text= \"This is a text\",fg=\"Black\",bg=\"white\",\n",
    "                  width=10, height= 10)\n",
    "```\n",
    "\n",
    "The width and height is measured in text units. \n",
    "*One horizontal text unit is determined by the width of the character \"0\", or the number zero, in the default system font. Similarly, one vertical text unit is determined by the height of the character \"0\".*"
   ]
  },
  {
   "cell_type": "markdown",
   "id": "4eac7511",
   "metadata": {},
   "source": [
    "## Button\n",
    "\n",
    "Button widgets are used to get clickable widgets from the user. They can be configured to call function whenever they are clicked. It is similar to the **Label Button** since the arguments they required are quite similar. \n",
    "\n",
    "``` python\n",
    "\n",
    "variable = tk.button(text=\"Button I\", width=25, height=20, fg=\"blue\", bg=\"black\")\n",
    "```"
   ]
  },
  {
   "cell_type": "markdown",
   "id": "d825dfdf",
   "metadata": {},
   "source": [
    "## Entry\n",
    "\n",
    "When we need a little bit of input from the user, we use the **entry** widget. For example, for *Name, E-mail, Phone Number* we can use the entry widget. "
   ]
  }
 ],
 "metadata": {
  "kernelspec": {
   "display_name": "Python 3",
   "language": "python",
   "name": "python3"
  },
  "language_info": {
   "codemirror_mode": {
    "name": "ipython",
    "version": 3
   },
   "file_extension": ".py",
   "mimetype": "text/x-python",
   "name": "python",
   "nbconvert_exporter": "python",
   "pygments_lexer": "ipython3",
   "version": "3.9.2"
  }
 },
 "nbformat": 4,
 "nbformat_minor": 5
}
