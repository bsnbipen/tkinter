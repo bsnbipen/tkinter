{
 "cells": [
  {
   "cell_type": "markdown",
   "metadata": {},
   "source": [
    "# Learning Tkinter is Cool \n",
    "   By Learner"
   ]
  },
  {
   "cell_type": "code",
   "execution_count": 5,
   "metadata": {},
   "outputs": [],
   "source": [
    "import tkinter as tk"
   ]
  },
  {
   "cell_type": "markdown",
   "metadata": {},
   "source": [
    "Imports tkinter library as \"**tk**\""
   ]
  },
  {
   "cell_type": "code",
   "execution_count": 6,
   "metadata": {},
   "outputs": [],
   "source": [
    "window = tk.Tk()"
   ]
  },
  {
   "cell_type": "markdown",
   "metadata": {},
   "source": [
    "A window is an instance of Tkinter’s Tk class. Created a new window and assigned it to the variable *window*"
   ]
  },
  {
   "cell_type": "markdown",
   "metadata": {},
   "source": [
    "## Adding a widget"
   ]
  },
  {
   "cell_type": "markdown",
   "metadata": {},
   "source": [
    "In order to add some widget, we can use the *tk.label()* class and add some text to it."
   ]
  },
  {
   "cell_type": "code",
   "execution_count": 16,
   "metadata": {},
   "outputs": [],
   "source": [
    "greeting = tk.Label(text=\"Greeetings, My master\")\n",
    "greeting.pack()\n",
    "window.mainloop()"
   ]
  },
  {
   "cell_type": "markdown",
   "metadata": {},
   "source": [
    "**.pack()** method adds the widget to the window. There are several method to add widgets to the know and *.pack()* is one of them. The kinter tries pack the window as small as possible while still showing the widget."
   ]
  },
  {
   "cell_type": "markdown",
   "metadata": {},
   "source": [
    "**window.mainloop()** tells Python to run the Tkinter event loop. This method listens for events, such as button clicks or keypresses, and blocks any code that comes after it from running until the window it’s called on is closed. Go ahead and close the window you’ve created, and you’ll see a new prompt displayed in the shell."
   ]
  },
  {
   "cell_type": "markdown",
   "metadata": {},
   "source": [
    "##### Creating a Tkinter Window with something written on it\n",
    "\n"
   ]
  },
  {
   "cell_type": "code",
   "execution_count": 20,
   "metadata": {},
   "outputs": [],
   "source": [
    "window2=tk.Tk()\n",
    "var=tk.Label(text=\"This is just a try\")\n",
    "var.pack()\n",
    "window2.mainloop()"
   ]
  },
  {
   "cell_type": "markdown",
   "metadata": {},
   "source": [
    "## Working With Widgets\n",
    "\n",
    "Widgets are very important part of the tkinter library. Each widget is defined by a class.\n",
    "\n",
    "|Widget|Information|\n",
    "|-|-|\n",
    "|Label| A widget used to dispaly text on the screen.|\n",
    "|Button| A button that contain text and performs action when clicked.|\n",
    "|Entry| A text entry widget that allows only a single line of text. |\n",
    "|Text| A text entry widget that allows multiple line of text.|\n",
    "|Frame| A rectangular region used to group related widgets or provide padding between widget.|\n",
    "\n"
   ]
  },
  {
   "cell_type": "markdown",
   "metadata": {},
   "source": [
    "## Label Widgets\n",
    "\n",
    "Label widgets are used to dispaly text or images. The text displayed in the label widget cannot be changed by the user. The label widget can be simply used by initializing the label class and entering the text argument with the class.\n",
    "\n",
    "``` python \n",
    "variable=tk.Label(text=\"This is a text\")\n",
    "```\n",
    "\n",
    "Label text and background colour can be controlled and changed using the foreground and background. The default text colour is black and white. \n",
    "\n",
    "``` python \n",
    "\n",
    "variable= tk.Label(text=\"This is a text\",\n",
    "                  foreground=\"white\", #Set text colour to white\n",
    "                  background=\"black\"  #Set text colour to black\n",
    "                  )\n",
    "```\n",
    "\n",
    "Many of HTML color names work with the Tkinter. \n",
    "We can also specify the color names using the hexadecimal RBG values. \n",
    "\n",
    "We can also use **short hand** for foreground and background colors.\n",
    "\n",
    "``` python\n",
    "variable=tk. Label(text=\"This is text\", fg=\"white\", bg= \"black\")\n",
    "```\n",
    "\n",
    "We can also control the width and height of the label using the width and height parameters.\n",
    "\n",
    "``` python\n",
    "\n",
    "variable= tk.Label(text= \"This is a text\",fg=\"Black\",bg=\"white\",\n",
    "                  width=10, height= 10)\n",
    "```\n",
    "\n",
    "The width and height is measured in text units. \n",
    "*One horizontal text unit is determined by the width of the character \"0\", or the number zero, in the default system font. Similarly, one vertical text unit is determined by the height of the character \"0\".*"
   ]
  },
  {
   "cell_type": "markdown",
   "metadata": {},
   "source": [
    "## Button\n",
    "\n",
    "Button widgets are used to get clickable widgets from the user. They can be configured to call function whenever they are clicked. It is similar to the **Label Button** since the arguments they required are quite similar. \n",
    "\n",
    "``` python\n",
    "\n",
    "variable = tk.button(text=\"Button I\", width=25, height=20, fg=\"blue\", bg=\"black\")\n",
    "```"
   ]
  },
  {
   "cell_type": "markdown",
   "metadata": {},
   "source": [
    "## Entry\n",
    "\n",
    "When we need a little bit of input from the user, we use the **entry** widget. For example, for *Name, E-mail, Phone Number* we can use the entry widget. This displays an small text which the user can use to enter text. The syntax for it is similar to button and label syntax.\n"
   ]
  },
  {
   "cell_type": "markdown",
   "metadata": {},
   "source": [
    "``` python\n",
    "entry=tk.entry(text=\"Enter Your Name Here\",\n",
    "fg=\"Black\",bg=\"White\",width=10,height=10)\n",
    "```"
   ]
  },
  {
   "cell_type": "markdown",
   "metadata": {},
   "source": [
    "There are other main operation which can be performed with Entery widget:\n",
    "* Retriving Text with .get()\n",
    "* Deleting Text with .delete()\n",
    "* Inserting Text with .insert()"
   ]
  },
  {
   "cell_type": "markdown",
   "metadata": {},
   "source": [
    "``` python\n",
    "import tkinter as tk\n",
    "window=tk.Tk()\n",
    "label=tk.Label(text=\"Enter Your Name:\",fg=\"White\",bg=\"Black\")\n",
    "entry=tk.Entry()\n",
    "label.pack()\n",
    "entry.pack()\n",
    "window.mainloop()\n",
    "```\n"
   ]
  },
  {
   "cell_type": "markdown",
   "metadata": {},
   "source": [
    "The Label helps the user to know the entry field wheres the entry creates a field where the user can enter. .pack() makes the two widgets visible in the windows."
   ]
  },
  {
   "cell_type": "markdown",
   "metadata": {},
   "source": [
    "The .delete() works as the string slicing-can take one or two arguments-.delete(x,y) where x is the starting position and y is the ending position. Also, we can take the special tk command tk.End() to take the count to the end of the string.\n",
    "\n",
    "The .insert() operation also works similar to .delete() and takes two arguments. But .insert(x,\"y\") is x is for the positional argument gives where to insert the text and \"y\" is the text to be inserted in the entry. The entry operation automatically inserts the text in the first even if the positional argument is not 0 (if not text is given at the entry). But if a text is given then it enters in the given position. "
   ]
  },
  {
   "cell_type": "markdown",
   "metadata": {},
   "source": [
    "## Text\n",
    "\n",
    "The text widget is very similar to the entry widget. But the difference is we can entry multiple paraghraph with .Text() widget.\n",
    "\n",
    "Just like Entry widget, it has three main operations:\n",
    "\n",
    "* Retriving Text with .get()\n",
    "* Deleting Text with .delete()\n",
    "* Inserting Text with .insert()\n",
    "\n"
   ]
  },
  {
   "cell_type": "markdown",
   "metadata": {},
   "source": [
    "``` python\n",
    "import tkinter as tk\n",
    "window=tk.Tk()\n",
    "text_box=tk.Text()\n",
    "text_box.pack()\n",
    "```"
   ]
  },
  {
   "cell_type": "markdown",
   "metadata": {},
   "source": [
    "The Text box widget is bigger than the entry window.\n",
    "\n",
    "### .get()\n",
    "\n",
    "Just like the entry, we can use the .get() operation to get the entered text from the text widget. But unlike the entry, wew neet to give the postional arugument otherwise it may give an exception. \n",
    "\n",
    "Giving only one argument returns only on string. \n",
    "\n",
    "The arguments work queit different in the text. The argument entered contains two information \n",
    "* Line Number\n",
    "* Charater Postion\n",
    "\n",
    "The **Line Number** starts from 1 where aa the **Character Postion** starts from 0. So the argument entered in the text's .get() is:\n",
    "\n",
    "Line.Character-Position\n",
    "\n",
    "    -1.0= First Line and First Character\n",
    "    -2.3=Second Line and Fourth Character\n",
    "    \n",
    "``` python\n",
    "text_box.get(1.1,1.3) #From 2nd Character in 1st Line to Fourth Character in First Line)\n",
    "\n",
    "text_box.get(1.0, tk.End())  #Special command tk.End() takes to the end of the text entered, so we can get all the entered text in here\n",
    "```"
   ]
  },
  {
   "cell_type": "markdown",
   "metadata": {},
   "source": [
    "### .insert()\n",
    "\n",
    "The insert operation is similar to the entry widget. The only different is thhat it takes the aruguments just like the .get() takes in **Text** widget.\n",
    "\n",
    "``` python\n",
    "import tkinter as tk\n",
    "window=tk.Tk()\n",
    "text_box=tk.Text()\n",
    "text_box.pack()\n",
    "\n",
    "text.insert(1.2,\"Hello\") #Inserts \"Hello\" after the thrid character in the first line. \n",
    "```\n",
    "\n",
    "Always remember to enter the end of line character in the string, if you are going to add the string in a new line at the end.\n",
    "Otherwise, it will be added in the end of a line without the new line.\n",
    "\n",
    "``` python\n",
    "text.insert(2.0,\"\\nHello\")\n",
    "```"
   ]
  }
 ],
 "metadata": {
  "kernelspec": {
   "display_name": "Python 3",
   "language": "python",
   "name": "python3"
  },
  "language_info": {
   "codemirror_mode": {
    "name": "ipython",
    "version": 3
   },
   "file_extension": ".py",
   "mimetype": "text/x-python",
   "name": "python",
   "nbconvert_exporter": "python",
   "pygments_lexer": "ipython3",
   "version": "3.8.5"
  }
 },
 "nbformat": 4,
 "nbformat_minor": 5
}
